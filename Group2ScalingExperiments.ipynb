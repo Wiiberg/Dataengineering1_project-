{
 "cells": [
  {
   "cell_type": "markdown",
   "id": "eaf5b028-a26c-4758-82b0-ecdd0b24c70d",
   "metadata": {
    "tags": []
   },
   "source": [
    "## Group 2 Scaling Experiment Notebook"
   ]
  },
  {
   "cell_type": "code",
   "execution_count": 9,
   "id": "7b7e5153-0856-4576-8663-d6d9ef4848cc",
   "metadata": {},
   "outputs": [],
   "source": [
    "import pyspark as ps\n",
    "from pyspark.sql import SparkSession,SQLContext\n",
    "from operator import add\n",
    "from pyspark import SparkConf\n",
    "import warnings\n",
    "from pyspark.ml.feature import HashingTF, IDF, Tokenizer, CountVectorizer\n",
    "from pyspark.ml.feature import StringIndexer\n",
    "from pyspark.ml import Pipeline\n",
    "from pyspark.ml.classification import LogisticRegression\n",
    "from pyspark.ml.evaluation import BinaryClassificationEvaluator\n",
    "from pyspark.ml.feature import HashingTF, IDF, Tokenizer\n",
    "from pyspark.ml.feature import StringIndexer\n",
    "from pyspark.ml import Pipeline\n",
    "from pyspark.ml.classification import LogisticRegression\n",
    "import time\n",
    "from pyspark.ml.evaluation import BinaryClassificationEvaluator\n",
    "import matplotlib.pyplot as plt"
   ]
  },
  {
   "cell_type": "markdown",
   "id": "82797f71-1872-4d91-9b22-6f1e21bc4c02",
   "metadata": {},
   "source": [
    "Below is a function that was defined to run spark and the analysis for a specific dataset and number of cores"
   ]
  },
  {
   "cell_type": "code",
   "execution_count": 2,
   "id": "9e8f310e-4dac-401d-90a4-858eef5f0551",
   "metadata": {},
   "outputs": [],
   "source": [
    "def test(numCores,url):\n",
    "    spark_session = SparkSession\\\n",
    "        .builder\\\n",
    "        .master(\"spark://192.168.2.6:7077\") \\\n",
    "        .config(\"spark.dynamicAllocation.enabled\", True)\\\n",
    "        .config(\"spark.dynamicAllocation.shuffleTracking.enabled\",True)\\\n",
    "        .config(\"spark.shuffle.service.enabled\", False)\\\n",
    "        .config(\"spark.dynamicAllocation.executorIdleTimeout\",\"300s\")\\\n",
    "        .config(\"spark.executor.cores\",1)\\\n",
    "        .config(\"spark.cores.max\", numCores)\\\n",
    "        .config(\"spark.driver.port\",9998)\\\n",
    "        .config(\"spark.blockManager.port\",10005)\\\n",
    "        .appName(\"Group2\")\\\n",
    "        .getOrCreate()\n",
    "    sc = spark_session.sparkContext\n",
    "    spark = SparkSession(sc)\n",
    "    df = spark.read.json(url)\n",
    "    df.select(\"controversiality\").distinct().collect()\n",
    "    df_1 = df.select(\"body\",\"controversiality\")\n",
    "    (train_set, val_set, test_set) = df_1.randomSplit([0.98, 0.01, 0.01], seed = 2000)\n",
    "    tokenizer = Tokenizer(inputCol=\"body\", outputCol=\"words\")\n",
    "    hashtf = HashingTF(numFeatures=2**12, inputCol=\"words\", outputCol='tf')\n",
    "    idf = IDF(inputCol='tf', outputCol=\"features\", minDocFreq=5) \n",
    "    label_stringIdx = StringIndexer(inputCol = \"controversiality\", outputCol = \"label\")\n",
    "    pipeline = Pipeline(stages=[tokenizer, hashtf, idf, label_stringIdx])\n",
    "\n",
    "    pipelineFit = pipeline.fit(train_set)\n",
    "    train_df = pipelineFit.transform(train_set)\n",
    "    val_df = pipelineFit.transform(val_set)\n",
    "\n",
    "    start = time.time()\n",
    "    lr = LogisticRegression(maxIter=100)\n",
    "    lrModel = lr.fit(train_df)\n",
    "    end = time.time()\n",
    "\n",
    "    predictions = lrModel.transform(val_df)\n",
    "    evaluator = BinaryClassificationEvaluator(rawPredictionCol=\"rawPrediction\")\n",
    "    #evaluator.evaluate(predictions)\n",
    "    accuracy = predictions.filter(predictions.label == predictions.prediction).count() / float(val_set.count())\n",
    "    spark.stop()\n",
    "    return (print(\"time taken for training:{}\".format(end-start)),accuracy)"
   ]
  },
  {
   "cell_type": "markdown",
   "id": "7400c058-b509-4a3c-986c-a0380dfaa6b8",
   "metadata": {},
   "source": [
    "### Strong Scaling Experiment "
   ]
  },
  {
   "cell_type": "code",
   "execution_count": 11,
   "id": "3b4debe1-bcc0-4b9f-a2a8-f97e191d8fe2",
   "metadata": {},
   "outputs": [
    {
     "name": "stderr",
     "output_type": "stream",
     "text": [
      "22/03/25 10:40:37 WARN SparkConf: Note that spark.local.dir will be overridden by the value set by the cluster manager (via SPARK_LOCAL_DIRS in mesos/standalone/kubernetes and LOCAL_DIRS in YARN).\n",
      "22/03/25 10:40:37 WARN Utils: Service 'sparkDriver' could not bind on port 9998. Attempting port 9999.\n",
      "22/03/25 10:40:37 WARN Utils: Service 'SparkUI' could not bind on port 4040. Attempting port 4041.\n",
      "22/03/25 10:40:37 WARN Utils: Service 'org.apache.spark.network.netty.NettyBlockTransferService' could not bind on port 10005. Attempting port 10006.\n",
      "22/03/25 10:40:37 WARN ExecutorAllocationManager: Dynamic allocation without a shuffle service is an experimental feature.\n",
      "                                                                                \r"
     ]
    },
    {
     "name": "stdout",
     "output_type": "stream",
     "text": [
      "time taken for training:1029.1486976146698\n"
     ]
    },
    {
     "data": {
      "text/plain": [
       "(None, 0.9811204098306358)"
      ]
     },
     "execution_count": 11,
     "metadata": {},
     "output_type": "execute_result"
    }
   ],
   "source": [
    "test(1,\"hdfs://192.168.2.6:9000/user/ubuntu/input/RC_2020-01-18\")"
   ]
  },
  {
   "cell_type": "code",
   "execution_count": 12,
   "id": "f77d936e-15b8-4a2a-86b7-6d0ee173497f",
   "metadata": {},
   "outputs": [
    {
     "name": "stderr",
     "output_type": "stream",
     "text": [
      "22/03/25 11:07:49 WARN SparkConf: Note that spark.local.dir will be overridden by the value set by the cluster manager (via SPARK_LOCAL_DIRS in mesos/standalone/kubernetes and LOCAL_DIRS in YARN).\n",
      "22/03/25 11:07:49 WARN Utils: Service 'sparkDriver' could not bind on port 9998. Attempting port 9999.\n",
      "22/03/25 11:07:49 WARN Utils: Service 'SparkUI' could not bind on port 4040. Attempting port 4041.\n",
      "22/03/25 11:07:49 WARN Utils: Service 'org.apache.spark.network.netty.NettyBlockTransferService' could not bind on port 10005. Attempting port 10006.\n",
      "22/03/25 11:07:49 WARN ExecutorAllocationManager: Dynamic allocation without a shuffle service is an experimental feature.\n",
      "[Stage 244:=====================================================> (43 + 1) / 44]\r"
     ]
    },
    {
     "name": "stdout",
     "output_type": "stream",
     "text": [
      "time taken for training:481.26484751701355\n"
     ]
    },
    {
     "name": "stderr",
     "output_type": "stream",
     "text": [
      "                                                                                \r"
     ]
    },
    {
     "data": {
      "text/plain": [
       "(None, 0.9811204098306358)"
      ]
     },
     "execution_count": 12,
     "metadata": {},
     "output_type": "execute_result"
    }
   ],
   "source": [
    "test(2,\"hdfs://192.168.2.6:9000/user/ubuntu/input/RC_2020-01-18\")"
   ]
  },
  {
   "cell_type": "code",
   "execution_count": 13,
   "id": "a9742cd5-914c-4535-a7ea-e01ede4e4ff3",
   "metadata": {},
   "outputs": [
    {
     "name": "stderr",
     "output_type": "stream",
     "text": [
      "22/03/25 11:21:13 WARN SparkConf: Note that spark.local.dir will be overridden by the value set by the cluster manager (via SPARK_LOCAL_DIRS in mesos/standalone/kubernetes and LOCAL_DIRS in YARN).\n",
      "22/03/25 11:21:13 WARN Utils: Service 'sparkDriver' could not bind on port 9998. Attempting port 9999.\n",
      "22/03/25 11:21:13 WARN Utils: Service 'SparkUI' could not bind on port 4040. Attempting port 4041.\n",
      "22/03/25 11:21:13 WARN Utils: Service 'org.apache.spark.network.netty.NettyBlockTransferService' could not bind on port 10005. Attempting port 10006.\n",
      "22/03/25 11:21:13 WARN ExecutorAllocationManager: Dynamic allocation without a shuffle service is an experimental feature.\n",
      "                                                                                \r"
     ]
    },
    {
     "name": "stdout",
     "output_type": "stream",
     "text": [
      "time taken for training:315.02403807640076\n"
     ]
    },
    {
     "data": {
      "text/plain": [
       "(None, 0.9811204098306358)"
      ]
     },
     "execution_count": 13,
     "metadata": {},
     "output_type": "execute_result"
    }
   ],
   "source": [
    "test(3,\"hdfs://192.168.2.6:9000/user/ubuntu/input/RC_2020-01-18\")"
   ]
  },
  {
   "cell_type": "code",
   "execution_count": 14,
   "id": "6a41b82c-f636-4524-a154-45efed3283a9",
   "metadata": {},
   "outputs": [
    {
     "name": "stderr",
     "output_type": "stream",
     "text": [
      "22/03/25 11:34:41 WARN SparkConf: Note that spark.local.dir will be overridden by the value set by the cluster manager (via SPARK_LOCAL_DIRS in mesos/standalone/kubernetes and LOCAL_DIRS in YARN).\n",
      "22/03/25 11:34:41 WARN Utils: Service 'sparkDriver' could not bind on port 9998. Attempting port 9999.\n",
      "22/03/25 11:34:41 WARN Utils: Service 'SparkUI' could not bind on port 4040. Attempting port 4041.\n",
      "22/03/25 11:34:41 WARN Utils: Service 'org.apache.spark.network.netty.NettyBlockTransferService' could not bind on port 10005. Attempting port 10006.\n",
      "22/03/25 11:34:41 WARN ExecutorAllocationManager: Dynamic allocation without a shuffle service is an experimental feature.\n",
      "                                                                                \r"
     ]
    },
    {
     "name": "stdout",
     "output_type": "stream",
     "text": [
      "time taken for training:246.72914171218872\n"
     ]
    },
    {
     "data": {
      "text/plain": [
       "(None, 0.9811204098306358)"
      ]
     },
     "execution_count": 14,
     "metadata": {},
     "output_type": "execute_result"
    }
   ],
   "source": [
    "test(4,\"hdfs://192.168.2.6:9000/user/ubuntu/input/RC_2020-01-18\")"
   ]
  },
  {
   "cell_type": "code",
   "execution_count": 15,
   "id": "3050b0f3-692c-4f70-a60f-c1e446b482f4",
   "metadata": {},
   "outputs": [],
   "source": [
    "# Time results from training for 1,2,3,4 varying cores\n",
    "one = 1029\n",
    "two = 481\n",
    "three = 315\n",
    "four = 247"
   ]
  },
  {
   "cell_type": "code",
   "execution_count": 16,
   "id": "780a2ec7-91d1-4c1e-8a22-8f298637b5d7",
   "metadata": {},
   "outputs": [
    {
     "data": {
      "text/plain": [
       "<Figure size 432x288 with 0 Axes>"
      ]
     },
     "metadata": {},
     "output_type": "display_data"
    },
    {
     "data": {
      "image/png": "[encoded data removed]",
      "text/plain": [
       "<Figure size 720x576 with 1 Axes>"
      ]
     },
     "metadata": {
      "needs_background": "light"
     },
     "output_type": "display_data"
    }
   ],
   "source": [
    "#Weak Scaling Plot\n",
    "fig = plt.figure()\n",
    "x = [1,2,3,4]\n",
    "y = [one,two,three,four]\n",
    "plt.figure(figsize=(10, 8))\n",
    "plt.plot(x,y)\n",
    "\n",
    "plt.xlabel(\"Number of cores\")\n",
    "plt.ylabel(\"Time taken (seconds)\")\n",
    "plt.savefig(\"strong_scaling.png\")"
   ]
  },
  {
   "cell_type": "markdown",
   "id": "d246444d-78a6-4db4-925f-d251a8bd11bd",
   "metadata": {},
   "source": [
    "### Weak Scaling Experiment"
   ]
  },
  {
   "cell_type": "code",
   "execution_count": 6,
   "id": "2b8382f1-cfcb-4e94-8435-b7184d792423",
   "metadata": {},
   "outputs": [
    {
     "name": "stderr",
     "output_type": "stream",
     "text": [
      "22/03/25 10:36:59 WARN SparkConf: Note that spark.local.dir will be overridden by the value set by the cluster manager (via SPARK_LOCAL_DIRS in mesos/standalone/kubernetes and LOCAL_DIRS in YARN).\n",
      "22/03/25 10:36:59 WARN Utils: Service 'sparkDriver' could not bind on port 9998. Attempting port 9999.\n",
      "22/03/25 10:36:59 WARN Utils: Service 'SparkUI' could not bind on port 4040. Attempting port 4041.\n",
      "22/03/25 10:36:59 WARN Utils: Service 'org.apache.spark.network.netty.NettyBlockTransferService' could not bind on port 10005. Attempting port 10006.\n",
      "22/03/25 10:36:59 WARN ExecutorAllocationManager: Dynamic allocation without a shuffle service is an experimental feature.\n",
      "                                                                                \r"
     ]
    },
    {
     "name": "stdout",
     "output_type": "stream",
     "text": [
      "time taken for training:5.181334018707275\n"
     ]
    },
    {
     "data": {
      "text/plain": [
       "(None, 0.6923076923076923)"
      ]
     },
     "execution_count": 6,
     "metadata": {},
     "output_type": "execute_result"
    }
   ],
   "source": [
    "test(1,\"hdfs://192.168.2.6:9000/user/ubuntu/input/RC_2005-12\")"
   ]
  },
  {
   "cell_type": "code",
   "execution_count": 4,
   "id": "4259c5f6-a406-4bba-bcb0-5f3eed718b28",
   "metadata": {},
   "outputs": [
    {
     "name": "stderr",
     "output_type": "stream",
     "text": [
      "22/03/25 10:28:14 WARN SparkConf: Note that spark.local.dir will be overridden by the value set by the cluster manager (via SPARK_LOCAL_DIRS in mesos/standalone/kubernetes and LOCAL_DIRS in YARN).\n",
      "22/03/25 10:28:14 WARN Utils: Service 'sparkDriver' could not bind on port 9998. Attempting port 9999.\n",
      "22/03/25 10:28:14 WARN Utils: Service 'SparkUI' could not bind on port 4040. Attempting port 4041.\n",
      "22/03/25 10:28:14 WARN Utils: Service 'org.apache.spark.network.netty.NettyBlockTransferService' could not bind on port 10005. Attempting port 10006.\n",
      "22/03/25 10:28:14 WARN ExecutorAllocationManager: Dynamic allocation without a shuffle service is an experimental feature.\n",
      "22/03/25 10:29:00 WARN InstanceBuilder$NativeBLAS: Failed to load implementation from:dev.ludovic.netlib.blas.JNIBLAS\n",
      "22/03/25 10:29:00 WARN InstanceBuilder$NativeBLAS: Failed to load implementation from:dev.ludovic.netlib.blas.ForeignLinkerBLAS\n",
      "22/03/25 10:29:01 WARN BLAS: Failed to load implementation from: com.github.fommil.netlib.NativeSystemBLAS\n",
      "22/03/25 10:29:01 WARN BLAS: Failed to load implementation from: com.github.fommil.netlib.NativeRefBLAS\n",
      "                                                                                \r"
     ]
    },
    {
     "name": "stdout",
     "output_type": "stream",
     "text": [
      "time taken for training:30.312164306640625\n"
     ]
    },
    {
     "data": {
      "text/plain": [
       "(None, 0.9425981873111783)"
      ]
     },
     "execution_count": 4,
     "metadata": {},
     "output_type": "execute_result"
    }
   ],
   "source": [
    "test(2,\"hdfs://192.168.2.6:9000/user/ubuntu/input/RC_2007-07\")"
   ]
  },
  {
   "cell_type": "code",
   "execution_count": 3,
   "id": "efba99f2-340f-4404-9be3-0d921908d774",
   "metadata": {},
   "outputs": [
    {
     "name": "stderr",
     "output_type": "stream",
     "text": [
      "Using Spark's default log4j profile: org/apache/spark/log4j-defaults.properties\n",
      "Setting default log level to \"WARN\".\n",
      "To adjust logging level use sc.setLogLevel(newLevel). For SparkR, use setLogLevel(newLevel).\n",
      "22/03/25 10:23:56 WARN NativeCodeLoader: Unable to load native-hadoop library for your platform... using builtin-java classes where applicable\n",
      "22/03/25 10:23:56 WARN SparkConf: Note that spark.local.dir will be overridden by the value set by the cluster manager (via SPARK_LOCAL_DIRS in mesos/standalone/kubernetes and LOCAL_DIRS in YARN).\n",
      "22/03/25 10:23:57 WARN Utils: Service 'sparkDriver' could not bind on port 9998. Attempting port 9999.\n",
      "22/03/25 10:23:57 WARN Utils: Service 'SparkUI' could not bind on port 4040. Attempting port 4041.\n",
      "22/03/25 10:23:58 WARN Utils: Service 'org.apache.spark.network.netty.NettyBlockTransferService' could not bind on port 10005. Attempting port 10006.\n",
      "22/03/25 10:23:58 WARN ExecutorAllocationManager: Dynamic allocation without a shuffle service is an experimental feature.\n",
      "22/03/25 10:27:17 WARN Instrumentation: [05689065] All labels are the same value and fitIntercept=true, so the coefficients will be zeros. Training is not needed.\n",
      "                                                                                \r"
     ]
    },
    {
     "name": "stdout",
     "output_type": "stream",
     "text": [
      "time taken for training:68.8427414894104\n"
     ]
    },
    {
     "data": {
      "text/plain": [
       "(None, 1.0)"
      ]
     },
     "execution_count": 3,
     "metadata": {},
     "output_type": "execute_result"
    }
   ],
   "source": [
    "test(3,\"hdfs://192.168.2.6:9000/user/ubuntu/input/RC_2010-02\")"
   ]
  },
  {
   "cell_type": "code",
   "execution_count": 5,
   "id": "547aae8f-7229-4d19-875d-c747accb3d65",
   "metadata": {},
   "outputs": [
    {
     "name": "stderr",
     "output_type": "stream",
     "text": [
      "22/03/25 10:29:17 WARN SparkConf: Note that spark.local.dir will be overridden by the value set by the cluster manager (via SPARK_LOCAL_DIRS in mesos/standalone/kubernetes and LOCAL_DIRS in YARN).\n",
      "22/03/25 10:29:17 WARN Utils: Service 'sparkDriver' could not bind on port 9998. Attempting port 9999.\n",
      "22/03/25 10:29:17 WARN Utils: Service 'SparkUI' could not bind on port 4040. Attempting port 4041.\n",
      "22/03/25 10:29:17 WARN Utils: Service 'org.apache.spark.network.netty.NettyBlockTransferService' could not bind on port 10005. Attempting port 10006.\n",
      "22/03/25 10:29:17 WARN ExecutorAllocationManager: Dynamic allocation without a shuffle service is an experimental feature.\n",
      "22/03/25 10:30:10 WARN package: Truncated the string representation of a plan since it was too large. This behavior can be adjusted by setting 'spark.sql.debug.maxToStringFields'.\n",
      "                                                                                \r"
     ]
    },
    {
     "name": "stdout",
     "output_type": "stream",
     "text": [
      "time taken for training:240.03434467315674\n"
     ]
    },
    {
     "data": {
      "text/plain": [
       "(None, 0.9811204098306358)"
      ]
     },
     "execution_count": 5,
     "metadata": {},
     "output_type": "execute_result"
    }
   ],
   "source": [
    "test(4,\"hdfs://192.168.2.6:9000/user/ubuntu/input/RC_2020-01-18\")"
   ]
  },
  {
   "cell_type": "code",
   "execution_count": 7,
   "id": "011ef7e3-4cee-4d7e-9ccc-20e2120aecc6",
   "metadata": {},
   "outputs": [],
   "source": [
    "# Time results from training for 1,2,3,4 varying cores and varying dataset size\n",
    "one_w = 5\n",
    "two_w = 30\n",
    "three_w = 69\n",
    "four_w = 240"
   ]
  },
  {
   "cell_type": "code",
   "execution_count": 10,
   "id": "6bee8c89-42b1-4ae5-8a11-d81ae4e8c2f3",
   "metadata": {},
   "outputs": [
    {
     "data": {
      "text/plain": [
       "<Figure size 432x288 with 0 Axes>"
      ]
     },
     "metadata": {},
     "output_type": "display_data"
    },
    {
     "data": {
      "image/png": "[encoded data removed]",
      "text/plain": [
       "<Figure size 720x576 with 1 Axes>"
      ]
     },
     "metadata": {
      "needs_background": "light"
     },
     "output_type": "display_data"
    }
   ],
   "source": [
    "#Weak Scaling Plot\n",
    "fig = plt.figure()\n",
    "x = [1,2,3,4]\n",
    "y = [one_w,two_w,three_w,four_w]\n",
    "plt.figure(figsize=(10, 8))\n",
    "plt.plot(x,y)\n",
    "\n",
    "plt.xlabel(\"Number of cores\")\n",
    "plt.ylabel(\"Time taken (seconds)\")\n",
    "plt.savefig(\"weak_scaling.png\")"
   ]
  }
 ],
 "metadata": {
  "kernelspec": {
   "display_name": "Python 3 (ipykernel)",
   "language": "python",
   "name": "python3"
  },
  "language_info": {
   "codemirror_mode": {
    "name": "ipython",
    "version": 3
   },
   "file_extension": ".py",
   "mimetype": "text/x-python",
   "name": "python",
   "nbconvert_exporter": "python",
   "pygments_lexer": "ipython3",
   "version": "3.8.10"
  }
 },
 "nbformat": 4,
 "nbformat_minor": 5
}
