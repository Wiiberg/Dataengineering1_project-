{
 "cells": [
  {
   "cell_type": "code",
   "execution_count": 19,
   "metadata": {},
   "outputs": [],
   "source": [
    "import pyspark\n",
    "from pyspark.sql import SparkSession\n",
    "from operator import add\n",
    "from pyspark import SparkConf\n",
    "spark_session = SparkSession\\\n",
    "        .builder\\\n",
    "        .master(\"spark://192.168.2.6:7077\") \\\n",
    "        .config(\"spark.dynamicAllocation.enabled\", True)\\\n",
    "        .config(\"spark.dynamicAllocation.shuffleTracking.enabled\",True)\\\n",
    "        .config(\"spark.shuffle.service.enabled\", False)\\\n",
    "        .config(\"spark.dynamicAllocation.executorIdleTimeout\",\"300s\")\\\n",
    "        .config(\"spark.executor.cores\",4)\\\n",
    "        .config(\"spark.driver.port\",9998)\\\n",
    "        .config(\"spark.blockManager.port\",10005)\\\n",
    "        .appName(\"Group2\")\\\n",
    "        .getOrCreate()\n",
    "sc = spark_session.sparkContext\n",
    "spark = SparkSession(sc)"
   ]
  },
  {
   "cell_type": "raw",
   "metadata": {},
   "source": [
    "reddit_data = spark.read.json(\"hdfs://192.168.2.6:9000/user/ubuntu/input/RC_2010-01\")\n",
    "print(reddit_data.count())\n",
    "reddit_data2 = spark.read.json(\"hdfs://192.168.2.6:9000/user/ubuntu/input/RC_2010-01\")\n",
    "reddit.append(reddit_data2)\n",
    "print(reddit_data.count())"
   ]
  },
  {
   "cell_type": "code",
   "execution_count": 17,
   "metadata": {},
   "outputs": [
    {
     "name": "stderr",
     "output_type": "stream",
     "text": [
      "                                                                                \r"
     ]
    }
   ],
   "source": [
    "reddit_data = spark.read.json(\"hdfs://192.168.2.6:9000/user/ubuntu/input/RC_2010-01\")\n",
    "#print(reddit_data.count())\n",
    "#reddit_data2 = reddit_data\n",
    "#reddit_data.extend([reddit_data2 , reddit_data2])\n",
    "#print(reddit_data.count())"
   ]
  },
  {
   "cell_type": "code",
   "execution_count": 3,
   "metadata": {},
   "outputs": [
    {
     "data": {
      "text/plain": [
       "Row(archived=True, author='David_ungerer', author_flair_css_class=None, author_flair_text=None, body='Good rant, stop looking for a mass movement, if one appears fine, but first change yourself.\\nWhile at 54 still a work in process, I am a vegetarian (see corporate tainted food ect.) I shop at farmers markets, small shops and co-ops (member owned) I live in a urban space for two of 900 sq ft. I ride a bike and take MTA. I bank at a Federal Credit Union (small, local, member owned. Most importantly, I choose to live simply.\\nAs example . . . Go to a corporate drug store (the checkout girl has no health or retirement  and has to stock shelves and sweep floors for minimum wage or less if the corporation could, and is concerned abouting chatting about the community becouse of the boss.) or ride a mile to an owner run drug store (she welcome me by name, asks about my family and work or the community. She provides health and retirement for her workers.)\\nEvery day and every doller I spend I make a chooise and incurage others to do the same. Do you still bank at B of A or Chase? Why? Eat at Mc Ds or BK ? Why? What corporate policys are you supporting in Washingtion by funding them? If the policys are against your values the thousands of dollers votes out waigh your one electoral vote. Who is funding the Corporate lobbiest pushing the loophole in the tax bill? Be a Citizen or s Consumer.\\nWorking with others that may not see the world the same is a sign of adulthood wether at work or the community could this be why it is getting harder to solve problems?  ', controversiality=0, created_utc='1262304000', distinguished=None, downs=0, edited='false', gilded=0, id='c0i12v3', link_id='t3_akcbt', name='t1_c0i12v3', parent_id='t3_akcbt', removal_reason=None, retrieved_on=1426171563, score=5, score_hidden=False, subreddit='politics', subreddit_id='t5_2cneq', ups=5)"
      ]
     },
     "execution_count": 3,
     "metadata": {},
     "output_type": "execute_result"
    }
   ],
   "source": [
    "reddit_data.first()\n"
   ]
  },
  {
   "cell_type": "code",
   "execution_count": 4,
   "metadata": {},
   "outputs": [],
   "source": [
    "from pyspark.sql import functions as F \n",
    "import time"
   ]
  },
  {
   "cell_type": "code",
   "execution_count": null,
   "metadata": {},
   "outputs": [],
   "source": [
    "start = time.time()\n",
    "\n",
    "reddit_data_2 = reddit_data.\n",
    "end = "
   ]
  },
  {
   "cell_type": "code",
   "execution_count": 5,
   "metadata": {},
   "outputs": [
    {
     "name": "stderr",
     "output_type": "stream",
     "text": [
      "                                                                                \r"
     ]
    },
    {
     "data": {
      "text/plain": [
       "[Row(archived=True, author='David_ungerer', author_flair_css_class=None, author_flair_text=None, body='Good rant, stop looking for a mass movement, if one appears fine, but first change yourself.\\nWhile at 54 still a work in process, I am a vegetarian (see corporate tainted food ect.) I shop at farmers markets, small shops and co-ops (member owned) I live in a urban space for two of 900 sq ft. I ride a bike and take MTA. I bank at a Federal Credit Union (small, local, member owned. Most importantly, I choose to live simply.\\nAs example . . . Go to a corporate drug store (the checkout girl has no health or retirement  and has to stock shelves and sweep floors for minimum wage or less if the corporation could, and is concerned abouting chatting about the community becouse of the boss.) or ride a mile to an owner run drug store (she welcome me by name, asks about my family and work or the community. She provides health and retirement for her workers.)\\nEvery day and every doller I spend I make a chooise and incurage others to do the same. Do you still bank at B of A or Chase? Why? Eat at Mc Ds or BK ? Why? What corporate policys are you supporting in Washingtion by funding them? If the policys are against your values the thousands of dollers votes out waigh your one electoral vote. Who is funding the Corporate lobbiest pushing the loophole in the tax bill? Be a Citizen or s Consumer.\\nWorking with others that may not see the world the same is a sign of adulthood wether at work or the community could this be why it is getting harder to solve problems?  ', controversiality=0, created_utc='1262304000', distinguished=None, downs=0, edited='false', gilded=0, id='c0i12v3', link_id='t3_akcbt', name='t1_c0i12v3', parent_id='t3_akcbt', removal_reason=None, retrieved_on=1426171563, score=5, score_hidden=False, subreddit='politics', subreddit_id='t5_2cneq', ups=5),\n",
       " Row(archived=True, author='JayDurst', author_flair_css_class=None, author_flair_text=None, body='Sounds good to me.', controversiality=0, created_utc='1262304001', distinguished=None, downs=0, edited='false', gilded=0, id='c0i12v4', link_id='t3_akb50', name='t1_c0i12v4', parent_id='t1_c0i12q0', removal_reason=None, retrieved_on=1426171563, score=2, score_hidden=False, subreddit='offbeat', subreddit_id='t5_2qh11', ups=2),\n",
       " Row(archived=True, author='uninhibited', author_flair_css_class=None, author_flair_text=None, body='Ok so people can donate charity, but how does people playing a video game come into the equation?', controversiality=0, created_utc='1262304001', distinguished=None, downs=0, edited='false', gilded=0, id='c0i12v5', link_id='t3_akcaj', name='t1_c0i12v5', parent_id='t3_akcaj', removal_reason=None, retrieved_on=1426171563, score=1, score_hidden=False, subreddit='gaming', subreddit_id='t5_2qh03', ups=1),\n",
       " Row(archived=True, author='[deleted]', author_flair_css_class=None, author_flair_text=None, body='[deleted]', controversiality=0, created_utc='1262304001', distinguished=None, downs=0, edited='false', gilded=0, id='c0i12v6', link_id='t3_ak0b7', name='t1_c0i12v6', parent_id='t3_ak0b7', removal_reason=None, retrieved_on=1426171563, score=2, score_hidden=False, subreddit='trees', subreddit_id='t5_2r9vp', ups=2),\n",
       " Row(archived=True, author='parl', author_flair_css_class=None, author_flair_text=None, body='Why so red?', controversiality=0, created_utc='1262304002', distinguished=None, downs=0, edited='false', gilded=0, id='c0i12v7', link_id='t3_akddz', name='t1_c0i12v7', parent_id='t3_akddz', removal_reason=None, retrieved_on=1426171564, score=-1, score_hidden=False, subreddit='gonewild', subreddit_id='t5_2qq5c', ups=-1)]"
      ]
     },
     "execution_count": 5,
     "metadata": {},
     "output_type": "execute_result"
    }
   ],
   "source": [
    "reddit_data.take(5)"
   ]
  },
  {
   "cell_type": "code",
   "execution_count": 20,
   "metadata": {},
   "outputs": [
    {
     "name": "stderr",
     "output_type": "stream",
     "text": [
      "                                                                                \r"
     ]
    }
   ],
   "source": [
    "import time \n",
    "start = time.time()\n",
    "sub_count_mr = reddit_data.rdd \\\n",
    "    .map(lambda comment: (comment['subreddit'], 1)) \\\n",
    "    .reduceByKey(lambda accum, n: accum + n) \\\n",
    "    .collect()\n",
    "\n",
    "end = time.time()\n"
   ]
  },
  {
   "cell_type": "code",
   "execution_count": 22,
   "metadata": {},
   "outputs": [
    {
     "name": "stdout",
     "output_type": "stream",
     "text": [
      "1647892035.273016\n",
      "1647892064.7076204\n",
      "29.43460440635681\n",
      "2313\n",
      "[('AskReddit', 623825), ('reddit.com', 300476), ('pics', 198009), ('politics', 146922), ('IAmA', 135360), ('WTF', 114836), ('gaming', 113877), ('funny', 80320), ('atheism', 71549), ('science', 70028), ('programming', 66474), ('worldnews', 65451), ('technology', 49710), ('DoesAnybodyElse', 37237), ('Music', 26250), ('relationship_advice', 23163), ('fffffffuuuuuuuuuuuu', 20700), ('Economics', 19635), ('videos', 18558), ('trees', 18314)]\n"
     ]
    }
   ],
   "source": [
    "print(start)\n",
    "print(end)\n",
    "print(end-start)\n",
    "print(len(sub_count_mr))\n",
    "print(sorted(sub_count_mr, key=lambda sub_cnt: sub_cnt[1], reverse=True)[0:20])\n",
    "#29.373241662979126\n",
    "#28.87182331085205"
   ]
  },
  {
   "cell_type": "code",
   "execution_count": 20,
   "metadata": {},
   "outputs": [
    {
     "name": "stderr",
     "output_type": "stream",
     "text": [
      "                                                                                \r"
     ]
    },
    {
     "name": "stdout",
     "output_type": "stream",
     "text": [
      "1647894707.283127\n",
      "1647894777.0631738\n",
      "69.78004670143127\n"
     ]
    }
   ],
   "source": [
    "import string\n",
    "import time\n",
    "start = time.time()\n",
    "def screamer_sub_mapper(comment):\n",
    "    n_upper = len(list(filter(lambda c: c in string.ascii_uppercase, comment['body'])))\n",
    "    n_alpha = len(list(filter(lambda c: c in string.ascii_letters, comment['body'])))\n",
    "    return (comment['subreddit'], (n_upper, n_alpha))\n",
    "\n",
    "def screamer_reducer(value_list):\n",
    "    total_upper = 0\n",
    "    total_alpha = 0\n",
    "    for value in value_list:\n",
    "        (n_upper, n_alpha) = value\n",
    "        total_upper += n_upper\n",
    "        total_alpha += n_alpha\n",
    "    screamer_score = total_upper / total_alpha if total_alpha else 0\n",
    "    return (screamer_score, len(value_list))\n",
    "    \n",
    "screamer_subs = reddit_data.rdd \\\n",
    "    .map(screamer_sub_mapper) \\\n",
    "    .groupByKey() \\\n",
    "    .mapValues(screamer_reducer) \\\n",
    "\n",
    "screamer_subs.cache()\n",
    "screamer_subs.filter(lambda sub_rval: sub_rval[1][1] > 1000).sortBy(lambda sub_rval: sub_rval[1][0], False).take(3)\n",
    "end = time.time()\n",
    "print(start)\n",
    "print(end)\n",
    "print(end-start)"
   ]
  },
  {
   "cell_type": "code",
   "execution_count": 22,
   "metadata": {},
   "outputs": [],
   "source": [
    "#one core\n",
    "one = 74.00914692878723\n",
    "#two cores\n",
    "two = 70.34418892860413\n",
    "#three cores\n",
    "three = 70.31279945373535\n",
    "#four cores\n",
    "four = 69.78004670143127"
   ]
  },
  {
   "cell_type": "code",
   "execution_count": 28,
   "metadata": {},
   "outputs": [
    {
     "ename": "AttributeError",
     "evalue": "'Figure' object has no attribute 'set_xlabel'",
     "output_type": "error",
     "traceback": [
      "\u001b[0;31m---------------------------------------------------------------------------\u001b[0m",
      "\u001b[0;31mAttributeError\u001b[0m                            Traceback (most recent call last)",
      "Input \u001b[0;32mIn [28]\u001b[0m, in \u001b[0;36m<cell line: 7>\u001b[0;34m()\u001b[0m\n\u001b[1;32m      4\u001b[0m x \u001b[38;5;241m=\u001b[39m [\u001b[38;5;241m1\u001b[39m,\u001b[38;5;241m2\u001b[39m,\u001b[38;5;241m3\u001b[39m,\u001b[38;5;241m4\u001b[39m]\n\u001b[1;32m      5\u001b[0m y \u001b[38;5;241m=\u001b[39m [one,two,three,four]\n\u001b[0;32m----> 7\u001b[0m \u001b[43mfig\u001b[49m\u001b[38;5;241;43m.\u001b[39;49m\u001b[43mset_xlabel\u001b[49m(\u001b[38;5;124m'\u001b[39m\u001b[38;5;124mcores\u001b[39m\u001b[38;5;124m'\u001b[39m)\n\u001b[1;32m      8\u001b[0m fig\u001b[38;5;241m.\u001b[39mset_ylabel(\u001b[38;5;124m'\u001b[39m\u001b[38;5;124mseconds\u001b[39m\u001b[38;5;124m'\u001b[39m)\n\u001b[1;32m      9\u001b[0m plt\u001b[38;5;241m.\u001b[39mshow(x,y)\n",
      "\u001b[0;31mAttributeError\u001b[0m: 'Figure' object has no attribute 'set_xlabel'"
     ]
    },
    {
     "data": {
      "text/plain": [
       "<Figure size 432x288 with 0 Axes>"
      ]
     },
     "metadata": {},
     "output_type": "display_data"
    }
   ],
   "source": [
    "import matplotlib.pyplot as plt\n",
    "\n",
    "fig = plt.figure()\n",
    "x = [1,2,3,4]\n",
    "y = [one,two,three,four]\n",
    "\n",
    "plt.plot(x,y\n",
    "\n",
    "plt.xlabel(\"seconds\")\n",
    "plt.ylabel(\"Y axis label\")"
   ]
  }
 ],
 "metadata": {
  "kernelspec": {
   "display_name": "Python 3 (ipykernel)",
   "language": "python",
   "name": "python3"
  },
  "language_info": {
   "codemirror_mode": {
    "name": "ipython",
    "version": 3
   },
   "file_extension": ".py",
   "mimetype": "text/x-python",
   "name": "python",
   "nbconvert_exporter": "python",
   "pygments_lexer": "ipython3",
   "version": "3.8.10"
  }
 },
 "nbformat": 4,
 "nbformat_minor": 4
}
