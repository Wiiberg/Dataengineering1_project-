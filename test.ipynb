{
 "cells": [
  {
   "cell_type": "code",
   "execution_count": 1,
   "metadata": {},
   "outputs": [
    {
     "name": "stderr",
     "output_type": "stream",
     "text": [
      "Using Spark's default log4j profile: org/apache/spark/log4j-defaults.properties\n",
      "Setting default log level to \"WARN\".\n",
      "To adjust logging level use sc.setLogLevel(newLevel). For SparkR, use setLogLevel(newLevel).\n",
      "22/03/23 15:43:39 WARN NativeCodeLoader: Unable to load native-hadoop library for your platform... using builtin-java classes where applicable\n",
      "22/03/23 15:43:39 WARN SparkConf: Note that spark.local.dir will be overridden by the value set by the cluster manager (via SPARK_LOCAL_DIRS in mesos/standalone/kubernetes and LOCAL_DIRS in YARN).\n",
      "22/03/23 15:43:41 WARN ExecutorAllocationManager: Dynamic allocation without a shuffle service is an experimental feature.\n"
     ]
    }
   ],
   "source": [
    "import pyspark\n",
    "from pyspark.sql import SparkSession\n",
    "from operator import add\n",
    "from pyspark import SparkConf\n",
    "spark_session = SparkSession\\\n",
    "        .builder\\\n",
    "        .master(\"spark://192.168.2.6:7077\") \\\n",
    "        .config(\"spark.dynamicAllocation.enabled\", True)\\\n",
    "        .config(\"spark.dynamicAllocation.shuffleTracking.enabled\",True)\\\n",
    "        .config(\"spark.shuffle.service.enabled\", False)\\\n",
    "        .config(\"spark.dynamicAllocation.executorIdleTimeout\",\"300s\")\\\n",
    "        .config(\"spark.executor.cores\",2)\\\n",
    "        .config(\"spark.driver.port\",9998)\\\n",
    "        .config(\"spark.blockManager.port\",10005)\\\n",
    "        .appName(\"Group2\")\\\n",
    "        .getOrCreate()\n",
    "sc = spark_session.sparkContext\n",
    "spark = SparkSession(sc)"
   ]
  },
  {
   "cell_type": "raw",
   "metadata": {},
   "source": [
    "reddit_data = spark.read.json(\"hdfs://192.168.2.6:9000/user/ubuntu/input/RC_2010-01\")\n",
    "print(reddit_data.count())\n",
    "reddit_data2 = spark.read.json(\"hdfs://192.168.2.6:9000/user/ubuntu/input/RC_2010-01\")\n",
    "reddit.append(reddit_data2)\n",
    "print(reddit_data.count())"
   ]
  },
  {
   "cell_type": "code",
   "execution_count": 2,
   "metadata": {},
   "outputs": [
    {
     "name": "stderr",
     "output_type": "stream",
     "text": [
      "                                                                                \r"
     ]
    }
   ],
   "source": [
    "reddit_data = spark.read.json(\"hdfs://192.168.2.6:9000/user/ubuntu/input/RC_2010-01\")\n",
    "#print(reddit_data.count())\n",
    "#reddit_data2 = reddit_data\n",
    "#reddit_data.extend([reddit_data2 , reddit_data2])\n",
    "#print(reddit_data.count())"
   ]
  },
  {
   "cell_type": "code",
   "execution_count": 3,
   "metadata": {},
   "outputs": [
    {
     "data": {
      "text/plain": [
       "Row(archived=True, author='David_ungerer', author_flair_css_class=None, author_flair_text=None, body='Good rant, stop looking for a mass movement, if one appears fine, but first change yourself.\\nWhile at 54 still a work in process, I am a vegetarian (see corporate tainted food ect.) I shop at farmers markets, small shops and co-ops (member owned) I live in a urban space for two of 900 sq ft. I ride a bike and take MTA. I bank at a Federal Credit Union (small, local, member owned. Most importantly, I choose to live simply.\\nAs example . . . Go to a corporate drug store (the checkout girl has no health or retirement  and has to stock shelves and sweep floors for minimum wage or less if the corporation could, and is concerned abouting chatting about the community becouse of the boss.) or ride a mile to an owner run drug store (she welcome me by name, asks about my family and work or the community. She provides health and retirement for her workers.)\\nEvery day and every doller I spend I make a chooise and incurage others to do the same. Do you still bank at B of A or Chase? Why? Eat at Mc Ds or BK ? Why? What corporate policys are you supporting in Washingtion by funding them? If the policys are against your values the thousands of dollers votes out waigh your one electoral vote. Who is funding the Corporate lobbiest pushing the loophole in the tax bill? Be a Citizen or s Consumer.\\nWorking with others that may not see the world the same is a sign of adulthood wether at work or the community could this be why it is getting harder to solve problems?  ', controversiality=0, created_utc='1262304000', distinguished=None, downs=0, edited='false', gilded=0, id='c0i12v3', link_id='t3_akcbt', name='t1_c0i12v3', parent_id='t3_akcbt', removal_reason=None, retrieved_on=1426171563, score=5, score_hidden=False, subreddit='politics', subreddit_id='t5_2cneq', ups=5)"
      ]
     },
     "execution_count": 3,
     "metadata": {},
     "output_type": "execute_result"
    }
   ],
   "source": [
    "reddit_data.first()\n"
   ]
  },
  {
   "cell_type": "code",
   "execution_count": 4,
   "metadata": {},
   "outputs": [],
   "source": [
    "from pyspark.sql import functions as F \n",
    "import time"
   ]
  },
  {
   "cell_type": "code",
   "execution_count": null,
   "metadata": {},
   "outputs": [],
   "source": [
    "start = time.time()\n",
    "\n",
    "reddit_data_2 = reddit_data.\n",
    "end = "
   ]
  },
  {
   "cell_type": "code",
   "execution_count": null,
   "metadata": {},
   "outputs": [],
   "source": [
    "reddit_data.take(5)"
   ]
  },
  {
   "cell_type": "code",
   "execution_count": 5,
   "metadata": {},
   "outputs": [
    {
     "name": "stderr",
     "output_type": "stream",
     "text": [
      "                                                                                \r"
     ]
    }
   ],
   "source": [
    "import time \n",
    "start = time.time()\n",
    "sub_count_mr = reddit_data.rdd \\\n",
    "    .map(lambda comment: (comment['subreddit'], 1)) \\\n",
    "    .reduceByKey(lambda accum, n: accum + n) \\\n",
    "    .collect()\n",
    "\n",
    "end = time.time()\n"
   ]
  },
  {
   "cell_type": "code",
   "execution_count": 6,
   "metadata": {},
   "outputs": [
    {
     "name": "stdout",
     "output_type": "stream",
     "text": [
      "1648050267.4901493\n",
      "1648050299.1016145\n",
      "31.611465215682983\n",
      "2313\n",
      "[('AskReddit', 623825), ('reddit.com', 300476), ('pics', 198009), ('politics', 146922), ('IAmA', 135360), ('WTF', 114836), ('gaming', 113877), ('funny', 80320), ('atheism', 71549), ('science', 70028), ('programming', 66474), ('worldnews', 65451), ('technology', 49710), ('DoesAnybodyElse', 37237), ('Music', 26250), ('relationship_advice', 23163), ('fffffffuuuuuuuuuuuu', 20700), ('Economics', 19635), ('videos', 18558), ('trees', 18314)]\n"
     ]
    }
   ],
   "source": [
    "print(start)\n",
    "print(end)\n",
    "print(end-start)\n",
    "print(len(sub_count_mr))\n",
    "print(sorted(sub_count_mr, key=lambda sub_cnt: sub_cnt[1], reverse=True)[0:20])\n",
    "#29.373241662979126\n",
    "#28.87182331085205"
   ]
  },
  {
   "cell_type": "code",
   "execution_count": null,
   "metadata": {},
   "outputs": [],
   "source": [
    "import string\n",
    "import time\n",
    "start = time.time()\n",
    "def screamer_sub_mapper(comment):\n",
    "    n_upper = len(list(filter(lambda c: c in string.ascii_uppercase, comment['body'])))\n",
    "    n_alpha = len(list(filter(lambda c: c in string.ascii_letters, comment['body'])))\n",
    "    return (comment['subreddit'], (n_upper, n_alpha))\n",
    "\n",
    "def screamer_reducer(value_list):\n",
    "    total_upper = 0\n",
    "    total_alpha = 0\n",
    "    for value in value_list:\n",
    "        (n_upper, n_alpha) = value\n",
    "        total_upper += n_upper\n",
    "        total_alpha += n_alpha\n",
    "    screamer_score = total_upper / total_alpha if total_alpha else 0\n",
    "    return (screamer_score, len(value_list))\n",
    "    \n",
    "screamer_subs = reddit_data.rdd \\\n",
    "    .map(screamer_sub_mapper) \\\n",
    "    .groupByKey() \\\n",
    "    .mapValues(screamer_reducer) \\\n",
    "\n",
    "screamer_subs.cache()\n",
    "screamer_subs.filter(lambda sub_rval: sub_rval[1][1] > 1000).sortBy(lambda sub_rval: sub_rval[1][0], False).take(3)\n",
    "end = time.time()\n",
    "print(start)\n",
    "print(end)\n",
    "print(end-start)"
   ]
  },
  {
   "cell_type": "code",
   "execution_count": 8,
   "metadata": {},
   "outputs": [],
   "source": [
    "#one core\n",
    "one = 74.00914692878723\n",
    "#two cores\n",
    "two = 70.34418892860413\n",
    "#three cores\n",
    "three = 70.31279945373535\n",
    "#four cores\n",
    "four = 69.78004670143127"
   ]
  },
  {
   "cell_type": "code",
   "execution_count": 10,
   "metadata": {},
   "outputs": [
    {
     "data": {
      "text/plain": [
       "Text(0, 0.5, 'Y axis label')"
      ]
     },
     "execution_count": 10,
     "metadata": {},
     "output_type": "execute_result"
    },
    {
     "data": {
      "image/png": "[encoded data removed]",
      "text/plain": [
       "<Figure size 432x288 with 1 Axes>"
      ]
     },
     "metadata": {
      "needs_background": "light"
     },
     "output_type": "display_data"
    }
   ],
   "source": [
    "import matplotlib.pyplot as plt\n",
    "\n",
    "fig = plt.figure()\n",
    "x = [1,2,3,4]\n",
    "y = [one,two,three,four]\n",
    "\n",
    "plt.plot(x,y)\n",
    "\n",
    "plt.xlabel(\"seconds\")\n",
    "plt.ylabel(\"Y axis label\")"
   ]
  },
  {
   "cell_type": "code",
   "execution_count": 1,
   "metadata": {},
   "outputs": [],
   "source": [
    "import string\n",
    "import time\n",
    "def screamer_sub_mapper(comment):\n",
    "    n_upper = len(list(filter(lambda c: c in string.ascii_uppercase, comment['body'])))\n",
    "    n_alpha = len(list(filter(lambda c: c in string.ascii_letters, comment['body'])))\n",
    "    return (comment['subreddit'], (n_upper, n_alpha))\n",
    "\n",
    "def screamer_reducer(value_list):\n",
    "    total_upper = 0\n",
    "    total_alpha = 0\n",
    "    for value in value_list:\n",
    "        (n_upper, n_alpha) = value\n",
    "        total_upper += n_upper\n",
    "        total_alpha += n_alpha\n",
    "    screamer_score = total_upper / total_alpha if total_alpha else 0\n",
    "    return (screamer_score, len(value_list))\n",
    "\n",
    "def test(numCores,url):\n",
    "    import pyspark\n",
    "    from pyspark.sql import SparkSession\n",
    "    from operator import add\n",
    "    from pyspark import SparkConf\n",
    "    start = time.time()\n",
    "    spark_session = SparkSession\\\n",
    "        .builder\\\n",
    "        .master(\"spark://192.168.2.6:7077\") \\\n",
    "        .config(\"spark.dynamicAllocation.enabled\", True)\\\n",
    "        .config(\"spark.dynamicAllocation.shuffleTracking.enabled\",True)\\\n",
    "        .config(\"spark.shuffle.service.enabled\", False)\\\n",
    "        .config(\"spark.dynamicAllocation.executorIdleTimeout\",\"300s\")\\\n",
    "        .config(\"spark.executor.cores\",1)\\\n",
    "        .config(\"spark.cores.max\", numCores)\\\n",
    "        .config(\"spark.driver.port\",9998)\\\n",
    "        .config(\"spark.blockManager.port\",10005)\\\n",
    "        .appName(\"Group2\")\\\n",
    "        .getOrCreate()\n",
    "    sc = spark_session.sparkContext\n",
    "    spark = SparkSession(sc)\n",
    "    reddit_data = spark.read.json(url)\n",
    "    screamer_subs = reddit_data.rdd \\\n",
    "    .map(screamer_sub_mapper) \\\n",
    "    .groupByKey() \\\n",
    "    .mapValues(screamer_reducer) \\\n",
    "\n",
    "    screamer_subs.cache()\n",
    "    screamer_subs.filter(lambda sub_rval: sub_rval[1][1] > 1000).sortBy(lambda sub_rval: sub_rval[1][0], False).take(3)\n",
    "    end = time.time()\n",
    "    spark.stop()\n",
    "    t = end-start\n",
    "    return t"
   ]
  },
  {
   "cell_type": "code",
   "execution_count": 2,
   "metadata": {},
   "outputs": [
    {
     "name": "stderr",
     "output_type": "stream",
     "text": [
      "Using Spark's default log4j profile: org/apache/spark/log4j-defaults.properties\n",
      "Setting default log level to \"WARN\".\n",
      "To adjust logging level use sc.setLogLevel(newLevel). For SparkR, use setLogLevel(newLevel).\n",
      "22/03/23 17:58:18 WARN NativeCodeLoader: Unable to load native-hadoop library for your platform... using builtin-java classes where applicable\n",
      "22/03/23 17:58:18 WARN SparkConf: Note that spark.local.dir will be overridden by the value set by the cluster manager (via SPARK_LOCAL_DIRS in mesos/standalone/kubernetes and LOCAL_DIRS in YARN).\n",
      "22/03/23 17:58:20 WARN ExecutorAllocationManager: Dynamic allocation without a shuffle service is an experimental feature.\n",
      "22/03/23 17:59:08 WARN package: Truncated the string representation of a plan since it was too large. This behavior can be adjusted by setting 'spark.sql.debug.maxToStringFields'.\n",
      "                                                                                \r"
     ]
    }
   ],
   "source": [
    "t5 = test(4,\"hdfs://192.168.2.6:9000/user/ubuntu/input/RC_2020-01-18\")"
   ]
  },
  {
   "cell_type": "code",
   "execution_count": 3,
   "metadata": {},
   "outputs": [
    {
     "data": {
      "text/plain": [
       "217.9006223678589"
      ]
     },
     "execution_count": 3,
     "metadata": {},
     "output_type": "execute_result"
    }
   ],
   "source": [
    "t5"
   ]
  },
  {
   "cell_type": "code",
   "execution_count": 4,
   "metadata": {},
   "outputs": [
    {
     "name": "stderr",
     "output_type": "stream",
     "text": [
      "22/03/23 18:01:55 WARN SparkConf: Note that spark.local.dir will be overridden by the value set by the cluster manager (via SPARK_LOCAL_DIRS in mesos/standalone/kubernetes and LOCAL_DIRS in YARN).\n",
      "22/03/23 18:01:55 WARN ExecutorAllocationManager: Dynamic allocation without a shuffle service is an experimental feature.\n",
      "                                                                                \r"
     ]
    }
   ],
   "source": [
    "t4 = test(3,\"hdfs://192.168.2.6:9000/user/ubuntu/input/RC_2010-01\")"
   ]
  },
  {
   "cell_type": "code",
   "execution_count": 5,
   "metadata": {},
   "outputs": [
    {
     "data": {
      "text/plain": [
       "118.06924057006836"
      ]
     },
     "execution_count": 5,
     "metadata": {},
     "output_type": "execute_result"
    }
   ],
   "source": [
    "t4"
   ]
  },
  {
   "cell_type": "code",
   "execution_count": 6,
   "metadata": {},
   "outputs": [
    {
     "name": "stderr",
     "output_type": "stream",
     "text": [
      "22/03/23 18:03:54 WARN SparkConf: Note that spark.local.dir will be overridden by the value set by the cluster manager (via SPARK_LOCAL_DIRS in mesos/standalone/kubernetes and LOCAL_DIRS in YARN).\n",
      "22/03/23 18:03:54 WARN ExecutorAllocationManager: Dynamic allocation without a shuffle service is an experimental feature.\n",
      "                                                                                \r"
     ]
    }
   ],
   "source": [
    "t3 = test(2,\"hdfs://192.168.2.6:9000/user/ubuntu/input/RC_2010-02\")"
   ]
  },
  {
   "cell_type": "code",
   "execution_count": 7,
   "metadata": {},
   "outputs": [
    {
     "data": {
      "text/plain": [
       "127.4151840209961"
      ]
     },
     "execution_count": 7,
     "metadata": {},
     "output_type": "execute_result"
    }
   ],
   "source": [
    "t3"
   ]
  },
  {
   "cell_type": "code",
   "execution_count": 8,
   "metadata": {},
   "outputs": [
    {
     "name": "stderr",
     "output_type": "stream",
     "text": [
      "22/03/23 18:06:02 WARN SparkConf: Note that spark.local.dir will be overridden by the value set by the cluster manager (via SPARK_LOCAL_DIRS in mesos/standalone/kubernetes and LOCAL_DIRS in YARN).\n",
      "22/03/23 18:06:02 WARN ExecutorAllocationManager: Dynamic allocation without a shuffle service is an experimental feature.\n",
      "                                                                                \r"
     ]
    }
   ],
   "source": [
    "t2 = test(1,\"hdfs://192.168.2.6:9000/user/ubuntu/input/RC_2005-12\")"
   ]
  },
  {
   "cell_type": "code",
   "execution_count": 9,
   "metadata": {},
   "outputs": [
    {
     "data": {
      "text/plain": [
       "12.93213152885437"
      ]
     },
     "execution_count": 9,
     "metadata": {},
     "output_type": "execute_result"
    }
   ],
   "source": [
    "t2"
   ]
  },
  {
   "cell_type": "code",
   "execution_count": null,
   "metadata": {},
   "outputs": [],
   "source": [
    "reddit_5 = spark.read.json(\"hdfs://192.168.2.6:9000/user/ubuntu/input/RC_2020-01-18\")\n",
    "reddit_2 = spark.read.json(\"hdfs://192.168.2.6:9000/user/ubuntu/input/RC_2007-07\")\n",
    "reddit_3 = spark.read.json(\"hdfs://192.168.2.6:9000/user/ubuntu/input/RC_2010-02\")\n",
    "reddit_4 = spark.read.json(\"hdfs://192.168.2.6:9000/user/ubuntu/input/RC_2010-01\")\n",
    "reddit_1 = spark.read.json(\"hdfs://192.168.2.6:9000/user/ubuntu/input/RC_2005-12\")"
   ]
  },
  {
   "cell_type": "code",
   "execution_count": 10,
   "metadata": {},
   "outputs": [],
   "source": [
    "#one core\n",
    "t2 = 12.93213152885437\n",
    "t3 = 127.4151840209961\n",
    "t4 = 118.06924057006836\n",
    "t5 = 217.9006223678589\n",
    "one = t2\n",
    "#two cores\n",
    "two = t3\n",
    "#three cores\n",
    "three = t4\n",
    "#four cores\n",
    "four = t5"
   ]
  },
  {
   "cell_type": "code",
   "execution_count": 12,
   "metadata": {},
   "outputs": [
    {
     "data": {
      "text/plain": [
       "Text(0, 0.5, 'Y axis label')"
      ]
     },
     "execution_count": 12,
     "metadata": {},
     "output_type": "execute_result"
    },
    {
     "data": {
      "image/png": "[encoded data removed]",
      "text/plain": [
       "<Figure size 432x288 with 1 Axes>"
      ]
     },
     "metadata": {
      "needs_background": "light"
     },
     "output_type": "display_data"
    }
   ],
   "source": [
    "import matplotlib.pyplot as plt\n",
    "fig = plt.figure()\n",
    "x = [1,2,3,4]\n",
    "y = [one,two,three,four]\n",
    "\n",
    "plt.plot(x,y)\n",
    "\n",
    "plt.xlabel(\"seconds\")\n",
    "plt.ylabel(\"Y axis label\")"
   ]
  },
  {
   "cell_type": "code",
   "execution_count": null,
   "metadata": {},
   "outputs": [],
   "source": []
  }
 ],
 "metadata": {
  "kernelspec": {
   "display_name": "Python 3 (ipykernel)",
   "language": "python",
   "name": "python3"
  },
  "language_info": {
   "codemirror_mode": {
    "name": "ipython",
    "version": 3
   },
   "file_extension": ".py",
   "mimetype": "text/x-python",
   "name": "python",
   "nbconvert_exporter": "python",
   "pygments_lexer": "ipython3",
   "version": "3.8.10"
  }
 },
 "nbformat": 4,
 "nbformat_minor": 4
}
